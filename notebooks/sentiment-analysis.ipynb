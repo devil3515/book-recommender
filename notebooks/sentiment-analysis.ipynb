{
 "cells": [
  {
   "metadata": {
    "ExecuteTime": {
     "end_time": "2025-03-04T17:50:38.888251Z",
     "start_time": "2025-03-04T17:50:37.785286Z"
    }
   },
   "cell_type": "code",
   "source": [
    "import pandas as pd\n",
    "\n",
    "books = pd.read_csv(\"books_with_categories.csv\")"
   ],
   "id": "9c5e5f7fb3564273",
   "outputs": [],
   "execution_count": 1
  },
  {
   "metadata": {
    "ExecuteTime": {
     "end_time": "2025-03-04T17:59:51.807794Z",
     "start_time": "2025-03-04T17:59:50.074175Z"
    }
   },
   "cell_type": "code",
   "source": [
    "from transformers import pipeline\n",
    "pipe = pipeline(\"text-classification\",\n",
    "                model=\"j-hartmann/emotion-english-distilroberta-base\",\n",
    "                device = 0,\n",
    "                top_k=None\n",
    "                )\n",
    "pipe('i love this')\n"
   ],
   "id": "48f62ae1ee921c04",
   "outputs": [
    {
     "name": "stderr",
     "output_type": "stream",
     "text": [
      "Device set to use cpu\n"
     ]
    },
    {
     "data": {
      "text/plain": [
       "[[{'label': 'joy', 'score': 0.9834631085395813},\n",
       "  {'label': 'sadness', 'score': 0.00798109546303749},\n",
       "  {'label': 'surprise', 'score': 0.003793600481003523},\n",
       "  {'label': 'anger', 'score': 0.002090137917548418},\n",
       "  {'label': 'neutral', 'score': 0.00157511280849576},\n",
       "  {'label': 'fear', 'score': 0.0006469090585596859},\n",
       "  {'label': 'disgust', 'score': 0.00045007967855781317}]]"
      ]
     },
     "execution_count": 3,
     "metadata": {},
     "output_type": "execute_result"
    }
   ],
   "execution_count": 3
  },
  {
   "metadata": {
    "ExecuteTime": {
     "end_time": "2025-03-04T18:00:12.011974Z",
     "start_time": "2025-03-04T18:00:11.996344Z"
    }
   },
   "cell_type": "code",
   "source": "books['description'][0]",
   "id": "906651e3bd907dfe",
   "outputs": [
    {
     "data": {
      "text/plain": [
       "'A NOVEL THAT READERS and critics have been eagerly anticipating for over a decade, Gilead is an astonishingly imagined story of remarkable lives. John Ames is a preacher, the son of a preacher and the grandson (both maternal and paternal) of preachers. It’s 1956 in Gilead, Iowa, towards the end of the Reverend Ames’s life, and he is absorbed in recording his family’s story, a legacy for the young son he will never see grow up. Haunted by his grandfather’s presence, John tells of the rift between his grandfather and his father: the elder, an angry visionary who fought for the abolitionist cause, and his son, an ardent pacifist. He is troubled, too, by his prodigal namesake, Jack (John Ames) Boughton, his best friend’s lost son who returns to Gilead searching for forgiveness and redemption. Told in John Ames’s joyous, rambling voice that finds beauty, humour and truth in the smallest of life’s details, Gilead is a song of celebration and acceptance of the best and the worst the world has to offer. At its heart is a tale of the sacred bonds between fathers and sons, pitch-perfect in style and story, set to dazzle critics and readers alike.'"
      ]
     },
     "execution_count": 4,
     "metadata": {},
     "output_type": "execute_result"
    }
   ],
   "execution_count": 4
  },
  {
   "metadata": {
    "ExecuteTime": {
     "end_time": "2025-03-04T18:00:21.378498Z",
     "start_time": "2025-03-04T18:00:20.808196Z"
    }
   },
   "cell_type": "code",
   "source": "pipe(books['description'][0])",
   "id": "a16fc91ab90347bb",
   "outputs": [
    {
     "data": {
      "text/plain": [
       "[[{'label': 'fear', 'score': 0.6548405885696411},\n",
       "  {'label': 'neutral', 'score': 0.16985228657722473},\n",
       "  {'label': 'sadness', 'score': 0.11640921980142593},\n",
       "  {'label': 'surprise', 'score': 0.02070065587759018},\n",
       "  {'label': 'disgust', 'score': 0.019100677222013474},\n",
       "  {'label': 'joy', 'score': 0.01516144908964634},\n",
       "  {'label': 'anger', 'score': 0.003935146611183882}]]"
      ]
     },
     "execution_count": 5,
     "metadata": {},
     "output_type": "execute_result"
    }
   ],
   "execution_count": 5
  },
  {
   "metadata": {
    "ExecuteTime": {
     "end_time": "2025-03-04T18:01:37.271524Z",
     "start_time": "2025-03-04T18:01:35.962962Z"
    }
   },
   "cell_type": "code",
   "source": "pipe(books['description'][0].split('.'))",
   "id": "a84fb4326b1d919f",
   "outputs": [
    {
     "data": {
      "text/plain": [
       "[[{'label': 'surprise', 'score': 0.7296020984649658},\n",
       "  {'label': 'neutral', 'score': 0.14038600027561188},\n",
       "  {'label': 'fear', 'score': 0.06816228479146957},\n",
       "  {'label': 'joy', 'score': 0.04794260859489441},\n",
       "  {'label': 'anger', 'score': 0.009156366810202599},\n",
       "  {'label': 'disgust', 'score': 0.0026284765917807817},\n",
       "  {'label': 'sadness', 'score': 0.002122163539752364}],\n",
       " [{'label': 'neutral', 'score': 0.44937002658843994},\n",
       "  {'label': 'disgust', 'score': 0.27359163761138916},\n",
       "  {'label': 'joy', 'score': 0.10908330976963043},\n",
       "  {'label': 'sadness', 'score': 0.09362746775150299},\n",
       "  {'label': 'anger', 'score': 0.04047830402851105},\n",
       "  {'label': 'surprise', 'score': 0.026970159262418747},\n",
       "  {'label': 'fear', 'score': 0.006879047024995089}],\n",
       " [{'label': 'neutral', 'score': 0.6462159752845764},\n",
       "  {'label': 'sadness', 'score': 0.24273329973220825},\n",
       "  {'label': 'disgust', 'score': 0.04342271760106087},\n",
       "  {'label': 'surprise', 'score': 0.028300564736127853},\n",
       "  {'label': 'joy', 'score': 0.014211472123861313},\n",
       "  {'label': 'fear', 'score': 0.0140841044485569},\n",
       "  {'label': 'anger', 'score': 0.011031901463866234}],\n",
       " [{'label': 'fear', 'score': 0.9281681180000305},\n",
       "  {'label': 'anger', 'score': 0.032191041857004166},\n",
       "  {'label': 'neutral', 'score': 0.01280867587774992},\n",
       "  {'label': 'sadness', 'score': 0.008756861090660095},\n",
       "  {'label': 'surprise', 'score': 0.008597906678915024},\n",
       "  {'label': 'disgust', 'score': 0.008431818336248398},\n",
       "  {'label': 'joy', 'score': 0.0010455837473273277}],\n",
       " [{'label': 'sadness', 'score': 0.9671575427055359},\n",
       "  {'label': 'neutral', 'score': 0.015104127116501331},\n",
       "  {'label': 'disgust', 'score': 0.006480589509010315},\n",
       "  {'label': 'fear', 'score': 0.005393980070948601},\n",
       "  {'label': 'surprise', 'score': 0.002286937553435564},\n",
       "  {'label': 'anger', 'score': 0.0018428878393024206},\n",
       "  {'label': 'joy', 'score': 0.0017338756006211042}],\n",
       " [{'label': 'joy', 'score': 0.932798445224762},\n",
       "  {'label': 'disgust', 'score': 0.0377168171107769},\n",
       "  {'label': 'neutral', 'score': 0.015891803428530693},\n",
       "  {'label': 'sadness', 'score': 0.006444480270147324},\n",
       "  {'label': 'anger', 'score': 0.005024945829063654},\n",
       "  {'label': 'surprise', 'score': 0.0015812049387022853},\n",
       "  {'label': 'fear', 'score': 0.0005423048860393465}],\n",
       " [{'label': 'joy', 'score': 0.6528708338737488},\n",
       "  {'label': 'neutral', 'score': 0.25427478551864624},\n",
       "  {'label': 'surprise', 'score': 0.06808284670114517},\n",
       "  {'label': 'sadness', 'score': 0.009908987209200859},\n",
       "  {'label': 'disgust', 'score': 0.0065122200176119804},\n",
       "  {'label': 'anger', 'score': 0.004821304697543383},\n",
       "  {'label': 'fear', 'score': 0.0035290175583213568}],\n",
       " [{'label': 'neutral', 'score': 0.5494767427444458},\n",
       "  {'label': 'sadness', 'score': 0.11169017851352692},\n",
       "  {'label': 'disgust', 'score': 0.10400667786598206},\n",
       "  {'label': 'surprise', 'score': 0.07876550406217575},\n",
       "  {'label': 'anger', 'score': 0.0641336441040039},\n",
       "  {'label': 'fear', 'score': 0.05136283114552498},\n",
       "  {'label': 'joy', 'score': 0.04056443274021149}]]"
      ]
     },
     "execution_count": 6,
     "metadata": {},
     "output_type": "execute_result"
    }
   ],
   "execution_count": 6
  },
  {
   "metadata": {
    "ExecuteTime": {
     "end_time": "2025-03-04T18:12:56.299073Z",
     "start_time": "2025-03-04T18:12:54.708543Z"
    }
   },
   "cell_type": "code",
   "source": [
    "sentence = books['description'][0].split('.')\n",
    "predictions = pipe(sentence)"
   ],
   "id": "ba28a5f9e97cc4f7",
   "outputs": [],
   "execution_count": 10
  },
  {
   "metadata": {
    "ExecuteTime": {
     "end_time": "2025-03-04T18:13:02.154345Z",
     "start_time": "2025-03-04T18:13:02.132735Z"
    }
   },
   "cell_type": "code",
   "source": "predictions[0]",
   "id": "c8aa15f9ba51bc31",
   "outputs": [
    {
     "data": {
      "text/plain": [
       "[{'label': 'surprise', 'score': 0.7296020984649658},\n",
       " {'label': 'neutral', 'score': 0.14038600027561188},\n",
       " {'label': 'fear', 'score': 0.06816228479146957},\n",
       " {'label': 'joy', 'score': 0.04794260859489441},\n",
       " {'label': 'anger', 'score': 0.009156366810202599},\n",
       " {'label': 'disgust', 'score': 0.0026284765917807817},\n",
       " {'label': 'sadness', 'score': 0.002122163539752364}]"
      ]
     },
     "execution_count": 12,
     "metadata": {},
     "output_type": "execute_result"
    }
   ],
   "execution_count": 12
  },
  {
   "metadata": {
    "ExecuteTime": {
     "end_time": "2025-03-04T18:13:06.756864Z",
     "start_time": "2025-03-04T18:13:06.746644Z"
    }
   },
   "cell_type": "code",
   "source": "sorted(predictions[0], key=lambda x: x['label'])",
   "id": "624cbc004e7f5fc9",
   "outputs": [
    {
     "data": {
      "text/plain": [
       "[{'label': 'anger', 'score': 0.009156366810202599},\n",
       " {'label': 'disgust', 'score': 0.0026284765917807817},\n",
       " {'label': 'fear', 'score': 0.06816228479146957},\n",
       " {'label': 'joy', 'score': 0.04794260859489441},\n",
       " {'label': 'neutral', 'score': 0.14038600027561188},\n",
       " {'label': 'sadness', 'score': 0.002122163539752364},\n",
       " {'label': 'surprise', 'score': 0.7296020984649658}]"
      ]
     },
     "execution_count": 13,
     "metadata": {},
     "output_type": "execute_result"
    }
   ],
   "execution_count": 13
  },
  {
   "metadata": {
    "ExecuteTime": {
     "end_time": "2025-03-04T18:18:33.552526Z",
     "start_time": "2025-03-04T18:18:33.514025Z"
    }
   },
   "cell_type": "code",
   "source": [
    "import numpy as np\n",
    "\n",
    "emotion_labels = ['anger','disgust','fear','joy','sadness','surprise','neutral']\n",
    "isbn = []\n",
    "emotion_scores = {label: [] for label in emotion_labels}\n",
    "\n",
    "def calculate_max_emotion(predictions):\n",
    "    per_emotion_score = {label: [] for label in emotion_labels}\n",
    "\n",
    "    for prediction in predictions:\n",
    "        sorted_predictions = sorted(prediction, key=lambda x: x['label'])\n",
    "        for index, label in enumerate(emotion_labels):\n",
    "            per_emotion_score[label].append(sorted_predictions[index]['score'])\n",
    "    return {label: np.max(scores) for label, scores in per_emotion_score.items()}\n"
   ],
   "id": "4b2a05190359336a",
   "outputs": [],
   "execution_count": 14
  },
  {
   "metadata": {
    "ExecuteTime": {
     "end_time": "2025-03-04T18:45:52.490507Z",
     "start_time": "2025-03-04T18:21:49.196593Z"
    }
   },
   "cell_type": "code",
   "source": [
    "from tqdm import tqdm\n",
    "emotion_labels = ['anger','disgust','fear','joy','sadness','surprise','neutral']\n",
    "isbn = []\n",
    "emotion_scores = {label: [] for label in emotion_labels}\n",
    "\n",
    "for i in tqdm(range(len(books))):\n",
    "    isbn.append(books['isbn13'][i])\n",
    "    sentence = books['description'][i].split('.')\n",
    "    predictions = pipe(sentence)\n",
    "    max_scores = calculate_max_emotion(predictions)\n",
    "    for label in emotion_labels:\n",
    "        emotion_scores[label].append(max_scores[label])"
   ],
   "id": "a023a1018050baf1",
   "outputs": [
    {
     "name": "stderr",
     "output_type": "stream",
     "text": [
      "100%|██████████| 5197/5197 [24:03<00:00,  3.60it/s]  \n"
     ]
    }
   ],
   "execution_count": 15
  },
  {
   "metadata": {
    "ExecuteTime": {
     "end_time": "2025-03-04T19:43:30.887691Z",
     "start_time": "2025-03-04T19:43:30.500075Z"
    }
   },
   "cell_type": "code",
   "source": [
    "emotion_df = pd.DataFrame(emotion_scores)\n",
    "emotion_df['isbn13'] = isbn\n"
   ],
   "id": "49752bcadec357ad",
   "outputs": [],
   "execution_count": 16
  },
  {
   "metadata": {
    "ExecuteTime": {
     "end_time": "2025-03-04T19:43:37.950790Z",
     "start_time": "2025-03-04T19:43:37.837822Z"
    }
   },
   "cell_type": "code",
   "source": "emotion_df.head()",
   "id": "8a41b924df2f56f1",
   "outputs": [
    {
     "data": {
      "text/plain": [
       "      anger   disgust      fear       joy   sadness  surprise   neutral  \\\n",
       "0  0.064134  0.273592  0.928168  0.932798  0.646216  0.967158  0.729602   \n",
       "1  0.612620  0.348285  0.942528  0.704422  0.887940  0.111690  0.252546   \n",
       "2  0.064134  0.104007  0.972321  0.767238  0.549477  0.111690  0.078766   \n",
       "3  0.351484  0.150722  0.360706  0.251882  0.732684  0.111690  0.078766   \n",
       "4  0.081412  0.184495  0.095043  0.040564  0.884390  0.475880  0.078766   \n",
       "\n",
       "          isbn13  \n",
       "0  9780002005883  \n",
       "1  9780002261982  \n",
       "2  9780006178736  \n",
       "3  9780006280897  \n",
       "4  9780006280934  "
      ],
      "text/html": [
       "<div>\n",
       "<style scoped>\n",
       "    .dataframe tbody tr th:only-of-type {\n",
       "        vertical-align: middle;\n",
       "    }\n",
       "\n",
       "    .dataframe tbody tr th {\n",
       "        vertical-align: top;\n",
       "    }\n",
       "\n",
       "    .dataframe thead th {\n",
       "        text-align: right;\n",
       "    }\n",
       "</style>\n",
       "<table border=\"1\" class=\"dataframe\">\n",
       "  <thead>\n",
       "    <tr style=\"text-align: right;\">\n",
       "      <th></th>\n",
       "      <th>anger</th>\n",
       "      <th>disgust</th>\n",
       "      <th>fear</th>\n",
       "      <th>joy</th>\n",
       "      <th>sadness</th>\n",
       "      <th>surprise</th>\n",
       "      <th>neutral</th>\n",
       "      <th>isbn13</th>\n",
       "    </tr>\n",
       "  </thead>\n",
       "  <tbody>\n",
       "    <tr>\n",
       "      <th>0</th>\n",
       "      <td>0.064134</td>\n",
       "      <td>0.273592</td>\n",
       "      <td>0.928168</td>\n",
       "      <td>0.932798</td>\n",
       "      <td>0.646216</td>\n",
       "      <td>0.967158</td>\n",
       "      <td>0.729602</td>\n",
       "      <td>9780002005883</td>\n",
       "    </tr>\n",
       "    <tr>\n",
       "      <th>1</th>\n",
       "      <td>0.612620</td>\n",
       "      <td>0.348285</td>\n",
       "      <td>0.942528</td>\n",
       "      <td>0.704422</td>\n",
       "      <td>0.887940</td>\n",
       "      <td>0.111690</td>\n",
       "      <td>0.252546</td>\n",
       "      <td>9780002261982</td>\n",
       "    </tr>\n",
       "    <tr>\n",
       "      <th>2</th>\n",
       "      <td>0.064134</td>\n",
       "      <td>0.104007</td>\n",
       "      <td>0.972321</td>\n",
       "      <td>0.767238</td>\n",
       "      <td>0.549477</td>\n",
       "      <td>0.111690</td>\n",
       "      <td>0.078766</td>\n",
       "      <td>9780006178736</td>\n",
       "    </tr>\n",
       "    <tr>\n",
       "      <th>3</th>\n",
       "      <td>0.351484</td>\n",
       "      <td>0.150722</td>\n",
       "      <td>0.360706</td>\n",
       "      <td>0.251882</td>\n",
       "      <td>0.732684</td>\n",
       "      <td>0.111690</td>\n",
       "      <td>0.078766</td>\n",
       "      <td>9780006280897</td>\n",
       "    </tr>\n",
       "    <tr>\n",
       "      <th>4</th>\n",
       "      <td>0.081412</td>\n",
       "      <td>0.184495</td>\n",
       "      <td>0.095043</td>\n",
       "      <td>0.040564</td>\n",
       "      <td>0.884390</td>\n",
       "      <td>0.475880</td>\n",
       "      <td>0.078766</td>\n",
       "      <td>9780006280934</td>\n",
       "    </tr>\n",
       "  </tbody>\n",
       "</table>\n",
       "</div>"
      ]
     },
     "execution_count": 17,
     "metadata": {},
     "output_type": "execute_result"
    }
   ],
   "execution_count": 17
  },
  {
   "metadata": {
    "ExecuteTime": {
     "end_time": "2025-03-04T19:44:19.289775Z",
     "start_time": "2025-03-04T19:44:19.105671Z"
    }
   },
   "cell_type": "code",
   "source": "books = pd.merge(books, emotion_df, on='isbn13')",
   "id": "d1dc44ac25b84f8e",
   "outputs": [],
   "execution_count": 18
  },
  {
   "metadata": {
    "ExecuteTime": {
     "end_time": "2025-03-04T19:45:38.429724Z",
     "start_time": "2025-03-04T19:45:38.098192Z"
    }
   },
   "cell_type": "code",
   "source": "books.to_csv('books_with_emotion.csv', index = False)",
   "id": "526fcd3241963bad",
   "outputs": [],
   "execution_count": 19
  },
  {
   "metadata": {},
   "cell_type": "code",
   "outputs": [],
   "execution_count": null,
   "source": "",
   "id": "56e47720660046cb"
  }
 ],
 "metadata": {
  "kernelspec": {
   "name": "python3",
   "language": "python",
   "display_name": "Python 3 (ipykernel)"
  }
 },
 "nbformat": 5,
 "nbformat_minor": 9
}
